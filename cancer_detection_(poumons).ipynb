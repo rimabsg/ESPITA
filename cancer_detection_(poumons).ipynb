{
  "nbformat": 4,
  "nbformat_minor": 0,
  "metadata": {
    "colab": {
      "provenance": [],
      "gpuType": "T4",
      "authorship_tag": "ABX9TyMRpnpiWuh8SS15fcib5Cld",
      "include_colab_link": true
    },
    "kernelspec": {
      "name": "python3",
      "display_name": "Python 3"
    },
    "language_info": {
      "name": "python"
    },
    "accelerator": "GPU"
  },
  "cells": [
    {
      "cell_type": "markdown",
      "metadata": {
        "id": "view-in-github",
        "colab_type": "text"
      },
      "source": [
        "<a href=\"https://colab.research.google.com/github/rimabsg/ESPITA/blob/main/cancer_detection_(poumons).ipynb\" target=\"_parent\"><img src=\"https://colab.research.google.com/assets/colab-badge.svg\" alt=\"Open In Colab\"/></a>"
      ]
    },
    {
      "cell_type": "markdown",
      "source": [
        "![espita logo.png](data:image/png;base64,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)"
      ],
      "metadata": {
        "id": "xUiUkb3kD5Kt"
      }
    },
    {
      "cell_type": "markdown",
      "source": [
        "# **Préparation de l'Environnement**"
      ],
      "metadata": {
        "id": "E5aWK6IxEcjM"
      }
    },
    {
      "cell_type": "code",
      "source": [
        "pip install numpy"
      ],
      "metadata": {
        "colab": {
          "base_uri": "https://localhost:8080/"
        },
        "id": "KoVvM-PrFWOW",
        "outputId": "b273c9ff-9f6a-4e6d-d85b-694ac6cd4020"
      },
      "execution_count": null,
      "outputs": [
        {
          "output_type": "stream",
          "name": "stdout",
          "text": [
            "Requirement already satisfied: numpy in /usr/local/lib/python3.10/dist-packages (1.25.2)\n"
          ]
        }
      ]
    },
    {
      "cell_type": "code",
      "source": [
        "pip install pandas"
      ],
      "metadata": {
        "colab": {
          "base_uri": "https://localhost:8080/"
        },
        "id": "Ok6_DepsFZsW",
        "outputId": "f8507d04-97e4-4089-a888-f43c490d7de2"
      },
      "execution_count": null,
      "outputs": [
        {
          "output_type": "stream",
          "name": "stdout",
          "text": [
            "Requirement already satisfied: pandas in /usr/local/lib/python3.10/dist-packages (2.0.3)\n",
            "Requirement already satisfied: python-dateutil>=2.8.2 in /usr/local/lib/python3.10/dist-packages (from pandas) (2.8.2)\n",
            "Requirement already satisfied: pytz>=2020.1 in /usr/local/lib/python3.10/dist-packages (from pandas) (2023.4)\n",
            "Requirement already satisfied: tzdata>=2022.1 in /usr/local/lib/python3.10/dist-packages (from pandas) (2024.1)\n",
            "Requirement already satisfied: numpy>=1.21.0 in /usr/local/lib/python3.10/dist-packages (from pandas) (1.25.2)\n",
            "Requirement already satisfied: six>=1.5 in /usr/local/lib/python3.10/dist-packages (from python-dateutil>=2.8.2->pandas) (1.16.0)\n"
          ]
        }
      ]
    },
    {
      "cell_type": "code",
      "source": [
        "pip install tensorflow\n"
      ],
      "metadata": {
        "colab": {
          "base_uri": "https://localhost:8080/"
        },
        "id": "_jPHanAGFdta",
        "outputId": "bd325906-d7f5-4d66-bd1b-aebf3a6b2af9"
      },
      "execution_count": null,
      "outputs": [
        {
          "output_type": "stream",
          "name": "stdout",
          "text": [
            "Requirement already satisfied: tensorflow in /usr/local/lib/python3.10/dist-packages (2.15.0)\n",
            "Requirement already satisfied: absl-py>=1.0.0 in /usr/local/lib/python3.10/dist-packages (from tensorflow) (1.4.0)\n",
            "Requirement already satisfied: astunparse>=1.6.0 in /usr/local/lib/python3.10/dist-packages (from tensorflow) (1.6.3)\n",
            "Requirement already satisfied: flatbuffers>=23.5.26 in /usr/local/lib/python3.10/dist-packages (from tensorflow) (24.3.25)\n",
            "Requirement already satisfied: gast!=0.5.0,!=0.5.1,!=0.5.2,>=0.2.1 in /usr/local/lib/python3.10/dist-packages (from tensorflow) (0.5.4)\n",
            "Requirement already satisfied: google-pasta>=0.1.1 in /usr/local/lib/python3.10/dist-packages (from tensorflow) (0.2.0)\n",
            "Requirement already satisfied: h5py>=2.9.0 in /usr/local/lib/python3.10/dist-packages (from tensorflow) (3.9.0)\n",
            "Requirement already satisfied: libclang>=13.0.0 in /usr/local/lib/python3.10/dist-packages (from tensorflow) (18.1.1)\n",
            "Requirement already satisfied: ml-dtypes~=0.2.0 in /usr/local/lib/python3.10/dist-packages (from tensorflow) (0.2.0)\n",
            "Requirement already satisfied: numpy<2.0.0,>=1.23.5 in /usr/local/lib/python3.10/dist-packages (from tensorflow) (1.25.2)\n",
            "Requirement already satisfied: opt-einsum>=2.3.2 in /usr/local/lib/python3.10/dist-packages (from tensorflow) (3.3.0)\n",
            "Requirement already satisfied: packaging in /usr/local/lib/python3.10/dist-packages (from tensorflow) (24.1)\n",
            "Requirement already satisfied: protobuf!=4.21.0,!=4.21.1,!=4.21.2,!=4.21.3,!=4.21.4,!=4.21.5,<5.0.0dev,>=3.20.3 in /usr/local/lib/python3.10/dist-packages (from tensorflow) (3.20.3)\n",
            "Requirement already satisfied: setuptools in /usr/local/lib/python3.10/dist-packages (from tensorflow) (67.7.2)\n",
            "Requirement already satisfied: six>=1.12.0 in /usr/local/lib/python3.10/dist-packages (from tensorflow) (1.16.0)\n",
            "Requirement already satisfied: termcolor>=1.1.0 in /usr/local/lib/python3.10/dist-packages (from tensorflow) (2.4.0)\n",
            "Requirement already satisfied: typing-extensions>=3.6.6 in /usr/local/lib/python3.10/dist-packages (from tensorflow) (4.12.2)\n",
            "Requirement already satisfied: wrapt<1.15,>=1.11.0 in /usr/local/lib/python3.10/dist-packages (from tensorflow) (1.14.1)\n",
            "Requirement already satisfied: tensorflow-io-gcs-filesystem>=0.23.1 in /usr/local/lib/python3.10/dist-packages (from tensorflow) (0.37.0)\n",
            "Requirement already satisfied: grpcio<2.0,>=1.24.3 in /usr/local/lib/python3.10/dist-packages (from tensorflow) (1.64.1)\n",
            "Requirement already satisfied: tensorboard<2.16,>=2.15 in /usr/local/lib/python3.10/dist-packages (from tensorflow) (2.15.2)\n",
            "Requirement already satisfied: tensorflow-estimator<2.16,>=2.15.0 in /usr/local/lib/python3.10/dist-packages (from tensorflow) (2.15.0)\n",
            "Requirement already satisfied: keras<2.16,>=2.15.0 in /usr/local/lib/python3.10/dist-packages (from tensorflow) (2.15.0)\n",
            "Requirement already satisfied: wheel<1.0,>=0.23.0 in /usr/local/lib/python3.10/dist-packages (from astunparse>=1.6.0->tensorflow) (0.43.0)\n",
            "Requirement already satisfied: google-auth<3,>=1.6.3 in /usr/local/lib/python3.10/dist-packages (from tensorboard<2.16,>=2.15->tensorflow) (2.27.0)\n",
            "Requirement already satisfied: google-auth-oauthlib<2,>=0.5 in /usr/local/lib/python3.10/dist-packages (from tensorboard<2.16,>=2.15->tensorflow) (1.2.0)\n",
            "Requirement already satisfied: markdown>=2.6.8 in /usr/local/lib/python3.10/dist-packages (from tensorboard<2.16,>=2.15->tensorflow) (3.6)\n",
            "Requirement already satisfied: requests<3,>=2.21.0 in /usr/local/lib/python3.10/dist-packages (from tensorboard<2.16,>=2.15->tensorflow) (2.31.0)\n",
            "Requirement already satisfied: tensorboard-data-server<0.8.0,>=0.7.0 in /usr/local/lib/python3.10/dist-packages (from tensorboard<2.16,>=2.15->tensorflow) (0.7.2)\n",
            "Requirement already satisfied: werkzeug>=1.0.1 in /usr/local/lib/python3.10/dist-packages (from tensorboard<2.16,>=2.15->tensorflow) (3.0.3)\n",
            "Requirement already satisfied: cachetools<6.0,>=2.0.0 in /usr/local/lib/python3.10/dist-packages (from google-auth<3,>=1.6.3->tensorboard<2.16,>=2.15->tensorflow) (5.3.3)\n",
            "Requirement already satisfied: pyasn1-modules>=0.2.1 in /usr/local/lib/python3.10/dist-packages (from google-auth<3,>=1.6.3->tensorboard<2.16,>=2.15->tensorflow) (0.4.0)\n",
            "Requirement already satisfied: rsa<5,>=3.1.4 in /usr/local/lib/python3.10/dist-packages (from google-auth<3,>=1.6.3->tensorboard<2.16,>=2.15->tensorflow) (4.9)\n",
            "Requirement already satisfied: requests-oauthlib>=0.7.0 in /usr/local/lib/python3.10/dist-packages (from google-auth-oauthlib<2,>=0.5->tensorboard<2.16,>=2.15->tensorflow) (1.3.1)\n",
            "Requirement already satisfied: charset-normalizer<4,>=2 in /usr/local/lib/python3.10/dist-packages (from requests<3,>=2.21.0->tensorboard<2.16,>=2.15->tensorflow) (3.3.2)\n",
            "Requirement already satisfied: idna<4,>=2.5 in /usr/local/lib/python3.10/dist-packages (from requests<3,>=2.21.0->tensorboard<2.16,>=2.15->tensorflow) (3.7)\n",
            "Requirement already satisfied: urllib3<3,>=1.21.1 in /usr/local/lib/python3.10/dist-packages (from requests<3,>=2.21.0->tensorboard<2.16,>=2.15->tensorflow) (2.0.7)\n",
            "Requirement already satisfied: certifi>=2017.4.17 in /usr/local/lib/python3.10/dist-packages (from requests<3,>=2.21.0->tensorboard<2.16,>=2.15->tensorflow) (2024.6.2)\n",
            "Requirement already satisfied: MarkupSafe>=2.1.1 in /usr/local/lib/python3.10/dist-packages (from werkzeug>=1.0.1->tensorboard<2.16,>=2.15->tensorflow) (2.1.5)\n",
            "Requirement already satisfied: pyasn1<0.7.0,>=0.4.6 in /usr/local/lib/python3.10/dist-packages (from pyasn1-modules>=0.2.1->google-auth<3,>=1.6.3->tensorboard<2.16,>=2.15->tensorflow) (0.6.0)\n",
            "Requirement already satisfied: oauthlib>=3.0.0 in /usr/local/lib/python3.10/dist-packages (from requests-oauthlib>=0.7.0->google-auth-oauthlib<2,>=0.5->tensorboard<2.16,>=2.15->tensorflow) (3.2.2)\n"
          ]
        }
      ]
    },
    {
      "cell_type": "code",
      "source": [
        "pip install matplotlib\n"
      ],
      "metadata": {
        "colab": {
          "base_uri": "https://localhost:8080/"
        },
        "id": "Jqb-IIOaF8jR",
        "outputId": "4e64c91b-249c-41fb-ae49-e15a8d732e14"
      },
      "execution_count": null,
      "outputs": [
        {
          "output_type": "stream",
          "name": "stdout",
          "text": [
            "Requirement already satisfied: matplotlib in /usr/local/lib/python3.10/dist-packages (3.7.1)\n",
            "Requirement already satisfied: contourpy>=1.0.1 in /usr/local/lib/python3.10/dist-packages (from matplotlib) (1.2.1)\n",
            "Requirement already satisfied: cycler>=0.10 in /usr/local/lib/python3.10/dist-packages (from matplotlib) (0.12.1)\n",
            "Requirement already satisfied: fonttools>=4.22.0 in /usr/local/lib/python3.10/dist-packages (from matplotlib) (4.53.0)\n",
            "Requirement already satisfied: kiwisolver>=1.0.1 in /usr/local/lib/python3.10/dist-packages (from matplotlib) (1.4.5)\n",
            "Requirement already satisfied: numpy>=1.20 in /usr/local/lib/python3.10/dist-packages (from matplotlib) (1.25.2)\n",
            "Requirement already satisfied: packaging>=20.0 in /usr/local/lib/python3.10/dist-packages (from matplotlib) (24.1)\n",
            "Requirement already satisfied: pillow>=6.2.0 in /usr/local/lib/python3.10/dist-packages (from matplotlib) (9.4.0)\n",
            "Requirement already satisfied: pyparsing>=2.3.1 in /usr/local/lib/python3.10/dist-packages (from matplotlib) (3.1.2)\n",
            "Requirement already satisfied: python-dateutil>=2.7 in /usr/local/lib/python3.10/dist-packages (from matplotlib) (2.8.2)\n",
            "Requirement already satisfied: six>=1.5 in /usr/local/lib/python3.10/dist-packages (from python-dateutil>=2.7->matplotlib) (1.16.0)\n"
          ]
        }
      ]
    },
    {
      "cell_type": "code",
      "source": [
        "pip install seaborn"
      ],
      "metadata": {
        "colab": {
          "base_uri": "https://localhost:8080/"
        },
        "id": "fflo_XAyGdW5",
        "outputId": "703d7aaa-3ef2-409c-bf45-50b50e940992"
      },
      "execution_count": null,
      "outputs": [
        {
          "output_type": "stream",
          "name": "stdout",
          "text": [
            "Requirement already satisfied: seaborn in /usr/local/lib/python3.10/dist-packages (0.13.1)\n",
            "Requirement already satisfied: numpy!=1.24.0,>=1.20 in /usr/local/lib/python3.10/dist-packages (from seaborn) (1.25.2)\n",
            "Requirement already satisfied: pandas>=1.2 in /usr/local/lib/python3.10/dist-packages (from seaborn) (2.0.3)\n",
            "Requirement already satisfied: matplotlib!=3.6.1,>=3.4 in /usr/local/lib/python3.10/dist-packages (from seaborn) (3.7.1)\n",
            "Requirement already satisfied: contourpy>=1.0.1 in /usr/local/lib/python3.10/dist-packages (from matplotlib!=3.6.1,>=3.4->seaborn) (1.2.1)\n",
            "Requirement already satisfied: cycler>=0.10 in /usr/local/lib/python3.10/dist-packages (from matplotlib!=3.6.1,>=3.4->seaborn) (0.12.1)\n",
            "Requirement already satisfied: fonttools>=4.22.0 in /usr/local/lib/python3.10/dist-packages (from matplotlib!=3.6.1,>=3.4->seaborn) (4.53.0)\n",
            "Requirement already satisfied: kiwisolver>=1.0.1 in /usr/local/lib/python3.10/dist-packages (from matplotlib!=3.6.1,>=3.4->seaborn) (1.4.5)\n",
            "Requirement already satisfied: packaging>=20.0 in /usr/local/lib/python3.10/dist-packages (from matplotlib!=3.6.1,>=3.4->seaborn) (24.1)\n",
            "Requirement already satisfied: pillow>=6.2.0 in /usr/local/lib/python3.10/dist-packages (from matplotlib!=3.6.1,>=3.4->seaborn) (9.4.0)\n",
            "Requirement already satisfied: pyparsing>=2.3.1 in /usr/local/lib/python3.10/dist-packages (from matplotlib!=3.6.1,>=3.4->seaborn) (3.1.2)\n",
            "Requirement already satisfied: python-dateutil>=2.7 in /usr/local/lib/python3.10/dist-packages (from matplotlib!=3.6.1,>=3.4->seaborn) (2.8.2)\n",
            "Requirement already satisfied: pytz>=2020.1 in /usr/local/lib/python3.10/dist-packages (from pandas>=1.2->seaborn) (2023.4)\n",
            "Requirement already satisfied: tzdata>=2022.1 in /usr/local/lib/python3.10/dist-packages (from pandas>=1.2->seaborn) (2024.1)\n",
            "Requirement already satisfied: six>=1.5 in /usr/local/lib/python3.10/dist-packages (from python-dateutil>=2.7->matplotlib!=3.6.1,>=3.4->seaborn) (1.16.0)\n"
          ]
        }
      ]
    },
    {
      "cell_type": "code",
      "source": [
        "pip install opencv-python #computer vision"
      ],
      "metadata": {
        "colab": {
          "base_uri": "https://localhost:8080/"
        },
        "id": "AAqmv66SHaei",
        "outputId": "ca4a137d-ff63-48e0-cc87-b38a7768f936"
      },
      "execution_count": null,
      "outputs": [
        {
          "output_type": "stream",
          "name": "stdout",
          "text": [
            "Requirement already satisfied: opencv-python in /usr/local/lib/python3.10/dist-packages (4.8.0.76)\n",
            "Requirement already satisfied: numpy>=1.21.2 in /usr/local/lib/python3.10/dist-packages (from opencv-python) (1.25.2)\n"
          ]
        }
      ]
    },
    {
      "cell_type": "markdown",
      "source": [
        "# **Detection de cancer des poumons**"
      ],
      "metadata": {
        "id": "5fYV-6zeH4VY"
      }
    },
    {
      "cell_type": "markdown",
      "source": [
        "![lung_cancer_main.jpg](data:image/jpeg;base64,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)"
      ],
      "metadata": {
        "id": "dxf3ye7JIJe-"
      }
    },
    {
      "cell_type": "markdown",
      "source": [
        "**Dataset :** https://www.kaggle.com/datasets/mohamedhanyyy/chest-ctscan-images/data"
      ],
      "metadata": {
        "id": "QvNL3Xm5JN55"
      }
    },
    {
      "cell_type": "markdown",
      "source": [
        "# 1- Importation des Bibliothéques"
      ],
      "metadata": {
        "id": "J7neAaxVKN1F"
      }
    },
    {
      "cell_type": "code",
      "source": [
        "import numpy as np\n",
        "import pandas as pd\n",
        "import tensorflow as tf #feha toutes les modeles"
      ],
      "metadata": {
        "id": "wgd6M6vqICP5"
      },
      "execution_count": null,
      "outputs": []
    },
    {
      "cell_type": "markdown",
      "source": [
        "# 2-Importation de Dataset"
      ],
      "metadata": {
        "id": "8Iti1ndpMeLv"
      }
    },
    {
      "cell_type": "code",
      "source": [
        "from google.colab import drive\n",
        "drive.mount('/content/drive')"
      ],
      "metadata": {
        "colab": {
          "base_uri": "https://localhost:8080/"
        },
        "id": "DHk-eoGLMLbz",
        "outputId": "d31ead0e-c4a6-448c-f794-6b351ec63f11"
      },
      "execution_count": null,
      "outputs": [
        {
          "output_type": "stream",
          "name": "stdout",
          "text": [
            "Mounted at /content/drive\n"
          ]
        }
      ]
    },
    {
      "cell_type": "code",
      "source": [
        "data=(\"/content/drive/MyDrive/archive\")"
      ],
      "metadata": {
        "id": "q8ZY7H6UM5Hv"
      },
      "execution_count": null,
      "outputs": []
    },
    {
      "cell_type": "code",
      "source": [
        "train_path_str = '/content/drive/MyDrive/archive/Data/train'"
      ],
      "metadata": {
        "id": "0ntwa2WFOEiE"
      },
      "execution_count": null,
      "outputs": []
    },
    {
      "cell_type": "code",
      "source": [
        "val_path_str = '/content/drive/MyDrive/archive/Data/valid'"
      ],
      "metadata": {
        "id": "6BAUIAzmOzjP"
      },
      "execution_count": null,
      "outputs": []
    },
    {
      "cell_type": "code",
      "source": [
        "test_path_str = '/content/drive/MyDrive/archive/Data/test'"
      ],
      "metadata": {
        "id": "OmrqlycuO_Iu"
      },
      "execution_count": null,
      "outputs": []
    },
    {
      "cell_type": "code",
      "source": [
        "import os #bch tlisti yaani ta9ra les classes eli mawjoudin f test\n",
        "test_classes = os.listdir(test_path_str)"
      ],
      "metadata": {
        "id": "f3wFpc7APPmm"
      },
      "execution_count": null,
      "outputs": []
    },
    {
      "cell_type": "markdown",
      "source": [
        "# **3- *Preprocessing* Data**"
      ],
      "metadata": {
        "id": "zo2heBeIQg0r"
      }
    },
    {
      "cell_type": "code",
      "source": [
        "from tensorflow.keras.layers import Conv2D, Dense, MaxPooling2D, Flatten, BatchNormalization, Dropout\n",
        "#Conv2D: couche de convolution 2D pour extraire des caractéristiques des images\n",
        "#Dense: couche de cnx\n",
        "#MaxPooling2D: couche de sous échantionnage qui réduit les dimentions\n",
        "#Flatten: couche qui aplatit les données en entrées en un vecteur\n",
        "#BatchNormalization: couche qui normalise les activations de la couche précédente"
      ],
      "metadata": {
        "id": "xE0m6wGjPtT0"
      },
      "execution_count": null,
      "outputs": []
    },
    {
      "cell_type": "code",
      "source": [
        "from tensorflow.keras.models import Sequential\n",
        "from tensorflow.keras.applications import VGG16 #extraction des caractéristiques\n",
        "from tensorflow.keras.preprocessing.image import ImageDataGenerator\n",
        "from tensorflow.keras.applications.resnet import preprocess_input\n",
        "\n",
        "import matplotlib.pyplot as plt\n",
        "import cv2 as cv\n",
        "\n",
        "from sklearn.metrics import classification_report,confusion_matrix\n",
        "from sklearn.utils import shuffle # Import shuffle from sklearn.utils\n",
        "\n",
        "from keras.utils import to_categorical"
      ],
      "metadata": {
        "id": "Jo16G2KWRbGQ"
      },
      "execution_count": null,
      "outputs": []
    },
    {
      "cell_type": "code",
      "source": [
        "#def de la forme des entrées de model\n",
        "input_shape =(224, 224,3) #les images sont 224*224 pixels avec 3 canaux de couleur RGB"
      ],
      "metadata": {
        "id": "5HfrEnVom03x"
      },
      "execution_count": null,
      "outputs": []
    },
    {
      "cell_type": "code",
      "source": [
        "#def de nmbre de classes de sortie\n",
        "num_classes = 4"
      ],
      "metadata": {
        "id": "XzXSXawJrCay"
      },
      "execution_count": null,
      "outputs": []
    },
    {
      "cell_type": "code",
      "source": [
        "#configuration du generateur d'img pour l'entrainement aves augmentation des données\n",
        "trainGenerator= ImageDataGenerator(\n",
        "    preprocessing_function = preprocess_input,\n",
        "    rotation_range= 10,\n",
        "    width_shift_range=0.3,\n",
        "    height_shift_range= 0.3,\n",
        "    shear_range= 0.2,\n",
        "    zoom_range= 0.1,\n",
        "    horizontal_flip= True,\n",
        "    vertical_flip= True,\n",
        "    dtype='float32'\n",
        ")"
      ],
      "metadata": {
        "id": "DNYQUhAHtmdQ"
      },
      "execution_count": null,
      "outputs": []
    },
    {
      "cell_type": "code",
      "source": [
        "valGenerator = ImageDataGenerator(\n",
        "    preprocessing_function = preprocess_input,\n",
        "\n",
        "    dtype= 'float32'\n",
        ")"
      ],
      "metadata": {
        "id": "SNC2wNCNuBoI"
      },
      "execution_count": null,
      "outputs": []
    },
    {
      "cell_type": "code",
      "source": [
        "testGenerator = ImageDataGenerator(\n",
        "    preprocessing_function = preprocess_input,\n",
        "\n",
        "    dtype= 'float32'\n",
        ")\n"
      ],
      "metadata": {
        "id": "xkiPhpgRuuVm"
      },
      "execution_count": null,
      "outputs": []
    },
    {
      "cell_type": "code",
      "source": [
        "train_data = trainGenerator.flow_from_directory(\n",
        "    train_path_str,\n",
        "    target_size = (224,224) ,\n",
        "    batch_size = 16,\n",
        "    class_mode = 'categorical'\n",
        ")"
      ],
      "metadata": {
        "colab": {
          "base_uri": "https://localhost:8080/"
        },
        "id": "bTnCg4VWxOep",
        "outputId": "83a522f1-c1be-49c7-d6d7-ee1dc204aa3a"
      },
      "execution_count": null,
      "outputs": [
        {
          "output_type": "stream",
          "name": "stdout",
          "text": [
            "Found 625 images belonging to 4 classes.\n"
          ]
        }
      ]
    },
    {
      "cell_type": "code",
      "source": [
        "val_data = valGenerator.flow_from_directory(\n",
        "    val_path_str,\n",
        "    target_size = (224,224) ,\n",
        "    batch_size = 16,\n",
        "    class_mode = 'categorical'\n",
        ")"
      ],
      "metadata": {
        "colab": {
          "base_uri": "https://localhost:8080/"
        },
        "id": "Nd3KYiGfzDjL",
        "outputId": "1d5154fc-7784-476e-cb48-299584989ca1"
      },
      "execution_count": null,
      "outputs": [
        {
          "output_type": "stream",
          "name": "stdout",
          "text": [
            "Found 81 images belonging to 4 classes.\n"
          ]
        }
      ]
    },
    {
      "cell_type": "code",
      "source": [
        "test_data = testGenerator.flow_from_directory(\n",
        "    test_path_str,\n",
        "    target_size = (224,224) ,\n",
        "    batch_size = 16,\n",
        "    class_mode = 'categorical'\n",
        ")"
      ],
      "metadata": {
        "colab": {
          "base_uri": "https://localhost:8080/"
        },
        "id": "t15RbhJK0Boz",
        "outputId": "c15ece7a-1a74-44f9-c030-301971dfe60d"
      },
      "execution_count": null,
      "outputs": [
        {
          "output_type": "stream",
          "name": "stdout",
          "text": [
            "Found 321 images belonging to 4 classes.\n"
          ]
        }
      ]
    },
    {
      "cell_type": "code",
      "source": [
        "VGG16_model = VGG16 (\n",
        "    include_top = False, #ne pas inclure les couches de classifications final\n",
        "    weights = \"imagenet\", #utiliser les poids pré-entrainer sur le dataset\n",
        "    input_shape = input_shape\n",
        ")"
      ],
      "metadata": {
        "colab": {
          "base_uri": "https://localhost:8080/"
        },
        "id": "f9FVf0332V-r",
        "outputId": "dc6703e1-1bd0-4df8-9002-ed1c254a03ac"
      },
      "execution_count": null,
      "outputs": [
        {
          "output_type": "stream",
          "name": "stdout",
          "text": [
            "Downloading data from https://storage.googleapis.com/tensorflow/keras-applications/vgg16/vgg16_weights_tf_dim_ordering_tf_kernels_notop.h5\n",
            "58889256/58889256 [==============================] - 3s 0us/step\n"
          ]
        }
      ]
    },
    {
      "cell_type": "code",
      "source": [
        "for layer in VGG16_model.layers:\n",
        "  layer.trainable = False"
      ],
      "metadata": {
        "id": "Vmi7I2CK5DBL"
      },
      "execution_count": null,
      "outputs": []
    },
    {
      "cell_type": "markdown",
      "source": [
        "# **4- Création de Modéle**"
      ],
      "metadata": {
        "id": "EpCHMwWg7dTd"
      }
    },
    {
      "cell_type": "code",
      "source": [
        "from keras import activations\n",
        "#création d'un modele sequentiel\n",
        "model = Sequential()\n",
        "\n",
        "#ajout de modele VGG pré-entrainé sans la couche fully connected\n",
        "model.add(VGG16_model)\n",
        "\n",
        "#ajouter une couche de normalization par lots pour améliorer la stabilité et la vitesse\n",
        "model.add(BatchNormalization())\n",
        "\n",
        "#ajouter une couche de pooling max pour réduire la dimentiondes données\n",
        "model.add(MaxPooling2D((2,2)))\n",
        "\n",
        "#preparer les données à l'entrée pour fully connected\n",
        "model.add(Flatten())\n",
        "\n",
        "#premiere couche fully connected avec 1024 neurones activés par la fonction Relu\n",
        "model.add(Dense(1024, activation='relu'))\n",
        "\n",
        "model.add(Dropout(0.3)) #ajout d'une couche de régularisation avec un taux 30%\n",
        "\n",
        "#deuxieme couche fully connected avec 512 neurones activés par la fonction Relu\n",
        "model.add(Dense(512, activation='relu'))\n",
        "model.add(Dropout(0.3))\n",
        "\n",
        "model.add(Dense(128, activation='relu'))\n",
        "\n",
        "#couche de sortie avec un nombre des neurones de classes activée par softmax\n",
        "model.add(Dense(num_classes, activation='softmax'))\n",
        "\n",
        "model.summary() #affichage de model"
      ],
      "metadata": {
        "colab": {
          "base_uri": "https://localhost:8080/"
        },
        "id": "9kuxn5CZ6DOe",
        "outputId": "f656075f-975b-426e-ac8f-fc39c323697c"
      },
      "execution_count": null,
      "outputs": [
        {
          "output_type": "stream",
          "name": "stdout",
          "text": [
            "Model: \"sequential\"\n",
            "_________________________________________________________________\n",
            " Layer (type)                Output Shape              Param #   \n",
            "=================================================================\n",
            " vgg16 (Functional)          (None, 7, 7, 512)         14714688  \n",
            "                                                                 \n",
            " batch_normalization (Batch  (None, 7, 7, 512)         2048      \n",
            " Normalization)                                                  \n",
            "                                                                 \n",
            " max_pooling2d (MaxPooling2  (None, 3, 3, 512)         0         \n",
            " D)                                                              \n",
            "                                                                 \n",
            " flatten (Flatten)           (None, 4608)              0         \n",
            "                                                                 \n",
            " dense (Dense)               (None, 1024)              4719616   \n",
            "                                                                 \n",
            " dropout (Dropout)           (None, 1024)              0         \n",
            "                                                                 \n",
            " dense_1 (Dense)             (None, 512)               524800    \n",
            "                                                                 \n",
            " dropout_1 (Dropout)         (None, 512)               0         \n",
            "                                                                 \n",
            " dense_2 (Dense)             (None, 128)               65664     \n",
            "                                                                 \n",
            " dense_3 (Dense)             (None, 4)                 516       \n",
            "                                                                 \n",
            "=================================================================\n",
            "Total params: 20027332 (76.40 MB)\n",
            "Trainable params: 5311620 (20.26 MB)\n",
            "Non-trainable params: 14715712 (56.14 MB)\n",
            "_________________________________________________________________\n"
          ]
        }
      ]
    },
    {
      "cell_type": "code",
      "source": [
        "callback= [\n",
        "    tf.keras.callbacks.EarlyStopping(patience=5),  # Arrête l'entraînement si la métrique surveillée ne s'améliore plus après 5 epochs\n",
        "    tf.keras.callbacks.ModelCheckpoint('model.h5', save_best_only = True), #sauvegarder le model dans un fichier h5\n",
        "    tf.keras.callbacks.TensorBoard(log_dir='log') #Enregistre les logs pour visualiser les métriques d'entraînement dans TensorBoard\n",
        "]"
      ],
      "metadata": {
        "id": "OgxTlzaZGRSC"
      },
      "execution_count": null,
      "outputs": []
    },
    {
      "cell_type": "code",
      "source": [
        "# Compile the model\n",
        "model.compile(optimizer='adam', loss='categorical_crossentropy', metrics=['accuracy']) # Add accuracy metric\n",
        "\n",
        "# Fit the model\n",
        "resultat = model.fit(train_data, validation_data = val_data, epochs=80, verbose=1)\n",
        "\n",
        "# Evaluate the model\n",
        "loss, acc = model.evaluate(test_data,verbose = 1) # Now it should return loss and accuracy"
      ],
      "metadata": {
        "colab": {
          "base_uri": "https://localhost:8080/"
        },
        "id": "je0XxrhhLnYn",
        "outputId": "e900a75f-51db-4839-c03a-7e18cb87f068"
      },
      "execution_count": null,
      "outputs": [
        {
          "output_type": "stream",
          "name": "stdout",
          "text": [
            "Epoch 1/80\n",
            "40/40 [==============================] - 19s 358ms/step - loss: 0.2332 - accuracy: 0.9280 - val_loss: 0.8157 - val_accuracy: 0.8519\n",
            "Epoch 2/80\n",
            "40/40 [==============================] - 17s 415ms/step - loss: 0.3065 - accuracy: 0.8816 - val_loss: 0.6457 - val_accuracy: 0.8642\n",
            "Epoch 3/80\n",
            "40/40 [==============================] - 14s 360ms/step - loss: 0.2692 - accuracy: 0.8992 - val_loss: 0.8569 - val_accuracy: 0.8519\n",
            "Epoch 4/80\n",
            "40/40 [==============================] - 14s 361ms/step - loss: 0.3846 - accuracy: 0.8848 - val_loss: 0.9430 - val_accuracy: 0.7778\n",
            "Epoch 5/80\n",
            "40/40 [==============================] - 15s 365ms/step - loss: 0.3193 - accuracy: 0.8816 - val_loss: 0.8685 - val_accuracy: 0.8148\n",
            "Epoch 6/80\n",
            "40/40 [==============================] - 14s 363ms/step - loss: 0.3219 - accuracy: 0.8960 - val_loss: 0.8081 - val_accuracy: 0.8519\n",
            "Epoch 7/80\n",
            "40/40 [==============================] - 17s 425ms/step - loss: 0.2840 - accuracy: 0.8928 - val_loss: 0.5913 - val_accuracy: 0.8642\n",
            "Epoch 8/80\n",
            "40/40 [==============================] - 15s 365ms/step - loss: 0.2990 - accuracy: 0.8896 - val_loss: 0.7663 - val_accuracy: 0.8395\n",
            "Epoch 9/80\n",
            "40/40 [==============================] - 14s 351ms/step - loss: 0.3770 - accuracy: 0.8960 - val_loss: 0.9295 - val_accuracy: 0.8395\n",
            "Epoch 10/80\n",
            "40/40 [==============================] - 15s 377ms/step - loss: 0.3205 - accuracy: 0.9056 - val_loss: 0.7366 - val_accuracy: 0.8765\n",
            "Epoch 11/80\n",
            "40/40 [==============================] - 14s 362ms/step - loss: 0.3093 - accuracy: 0.8752 - val_loss: 0.7190 - val_accuracy: 0.8395\n",
            "Epoch 12/80\n",
            "40/40 [==============================] - 15s 358ms/step - loss: 0.3067 - accuracy: 0.8864 - val_loss: 0.6537 - val_accuracy: 0.7901\n",
            "Epoch 13/80\n",
            "40/40 [==============================] - 15s 374ms/step - loss: 0.3083 - accuracy: 0.8992 - val_loss: 0.6248 - val_accuracy: 0.8148\n",
            "Epoch 14/80\n",
            "40/40 [==============================] - 15s 368ms/step - loss: 0.2823 - accuracy: 0.8864 - val_loss: 0.7008 - val_accuracy: 0.8765\n",
            "Epoch 15/80\n",
            "40/40 [==============================] - 14s 363ms/step - loss: 0.2806 - accuracy: 0.8864 - val_loss: 0.7271 - val_accuracy: 0.8765\n",
            "Epoch 16/80\n",
            "40/40 [==============================] - 17s 427ms/step - loss: 0.3109 - accuracy: 0.8992 - val_loss: 0.7955 - val_accuracy: 0.8272\n",
            "Epoch 17/80\n",
            "40/40 [==============================] - 14s 354ms/step - loss: 0.2946 - accuracy: 0.8992 - val_loss: 0.6554 - val_accuracy: 0.8765\n",
            "Epoch 18/80\n",
            "40/40 [==============================] - 15s 368ms/step - loss: 0.2521 - accuracy: 0.9168 - val_loss: 0.5501 - val_accuracy: 0.8765\n",
            "Epoch 19/80\n",
            "40/40 [==============================] - 15s 361ms/step - loss: 0.2989 - accuracy: 0.8976 - val_loss: 0.6257 - val_accuracy: 0.8765\n",
            "Epoch 20/80\n",
            "40/40 [==============================] - 14s 359ms/step - loss: 0.2366 - accuracy: 0.9072 - val_loss: 0.5320 - val_accuracy: 0.8889\n",
            "Epoch 21/80\n",
            "40/40 [==============================] - 14s 360ms/step - loss: 0.2242 - accuracy: 0.9344 - val_loss: 0.6043 - val_accuracy: 0.8889\n",
            "Epoch 22/80\n",
            "40/40 [==============================] - 15s 364ms/step - loss: 0.2177 - accuracy: 0.9248 - val_loss: 0.7016 - val_accuracy: 0.8765\n",
            "Epoch 23/80\n",
            "40/40 [==============================] - 15s 363ms/step - loss: 0.2223 - accuracy: 0.9152 - val_loss: 0.7297 - val_accuracy: 0.9012\n",
            "Epoch 24/80\n",
            "40/40 [==============================] - 14s 361ms/step - loss: 0.2396 - accuracy: 0.9184 - val_loss: 0.6133 - val_accuracy: 0.8765\n",
            "Epoch 25/80\n",
            "40/40 [==============================] - 15s 367ms/step - loss: 0.2077 - accuracy: 0.9232 - val_loss: 0.6757 - val_accuracy: 0.8889\n",
            "Epoch 26/80\n",
            "40/40 [==============================] - 14s 362ms/step - loss: 0.1659 - accuracy: 0.9408 - val_loss: 0.7204 - val_accuracy: 0.9012\n",
            "Epoch 27/80\n",
            "40/40 [==============================] - 14s 355ms/step - loss: 0.2102 - accuracy: 0.9248 - val_loss: 0.7620 - val_accuracy: 0.9012\n",
            "Epoch 28/80\n",
            "40/40 [==============================] - 14s 345ms/step - loss: 0.2489 - accuracy: 0.9152 - val_loss: 0.6846 - val_accuracy: 0.8642\n",
            "Epoch 29/80\n",
            "40/40 [==============================] - 14s 356ms/step - loss: 0.2140 - accuracy: 0.9168 - val_loss: 0.6251 - val_accuracy: 0.8889\n",
            "Epoch 30/80\n",
            "40/40 [==============================] - 14s 356ms/step - loss: 0.2267 - accuracy: 0.9120 - val_loss: 0.8785 - val_accuracy: 0.8765\n",
            "Epoch 31/80\n",
            "40/40 [==============================] - 16s 407ms/step - loss: 0.2863 - accuracy: 0.9104 - val_loss: 0.9045 - val_accuracy: 0.8272\n",
            "Epoch 32/80\n",
            "40/40 [==============================] - 15s 366ms/step - loss: 0.2835 - accuracy: 0.9136 - val_loss: 0.7356 - val_accuracy: 0.8642\n",
            "Epoch 33/80\n",
            "40/40 [==============================] - 14s 357ms/step - loss: 0.1842 - accuracy: 0.9424 - val_loss: 0.9125 - val_accuracy: 0.8642\n",
            "Epoch 34/80\n",
            "40/40 [==============================] - 14s 361ms/step - loss: 0.3372 - accuracy: 0.8992 - val_loss: 0.7442 - val_accuracy: 0.8642\n",
            "Epoch 35/80\n",
            "40/40 [==============================] - 15s 364ms/step - loss: 0.2017 - accuracy: 0.9280 - val_loss: 0.8141 - val_accuracy: 0.8642\n",
            "Epoch 36/80\n",
            "40/40 [==============================] - 14s 361ms/step - loss: 0.2779 - accuracy: 0.9184 - val_loss: 0.6429 - val_accuracy: 0.8642\n",
            "Epoch 37/80\n",
            "40/40 [==============================] - 14s 359ms/step - loss: 0.2504 - accuracy: 0.9216 - val_loss: 0.6788 - val_accuracy: 0.8519\n",
            "Epoch 38/80\n",
            "40/40 [==============================] - 15s 364ms/step - loss: 0.2211 - accuracy: 0.9152 - val_loss: 0.7069 - val_accuracy: 0.8642\n",
            "Epoch 39/80\n",
            "40/40 [==============================] - 14s 361ms/step - loss: 0.2428 - accuracy: 0.9168 - val_loss: 0.8700 - val_accuracy: 0.8519\n",
            "Epoch 40/80\n",
            "40/40 [==============================] - 15s 370ms/step - loss: 0.2631 - accuracy: 0.9392 - val_loss: 0.7671 - val_accuracy: 0.8889\n",
            "Epoch 41/80\n",
            "40/40 [==============================] - 14s 353ms/step - loss: 0.2484 - accuracy: 0.9152 - val_loss: 0.8085 - val_accuracy: 0.8889\n",
            "Epoch 42/80\n",
            "40/40 [==============================] - 15s 368ms/step - loss: 0.2431 - accuracy: 0.9248 - val_loss: 0.8772 - val_accuracy: 0.8765\n",
            "Epoch 43/80\n",
            "40/40 [==============================] - 14s 359ms/step - loss: 0.2675 - accuracy: 0.9040 - val_loss: 0.7541 - val_accuracy: 0.8889\n",
            "Epoch 44/80\n",
            "40/40 [==============================] - 14s 349ms/step - loss: 0.1828 - accuracy: 0.9328 - val_loss: 0.8303 - val_accuracy: 0.8889\n",
            "Epoch 45/80\n",
            "40/40 [==============================] - 14s 348ms/step - loss: 0.1920 - accuracy: 0.9376 - val_loss: 0.9729 - val_accuracy: 0.8889\n",
            "Epoch 46/80\n",
            "40/40 [==============================] - 14s 360ms/step - loss: 0.1819 - accuracy: 0.9296 - val_loss: 0.7806 - val_accuracy: 0.8889\n",
            "Epoch 47/80\n",
            "40/40 [==============================] - 14s 357ms/step - loss: 0.1519 - accuracy: 0.9472 - val_loss: 0.7995 - val_accuracy: 0.8889\n",
            "Epoch 48/80\n",
            "40/40 [==============================] - 14s 346ms/step - loss: 0.2414 - accuracy: 0.9008 - val_loss: 0.7940 - val_accuracy: 0.8889\n",
            "Epoch 49/80\n",
            "40/40 [==============================] - 14s 359ms/step - loss: 0.2156 - accuracy: 0.9376 - val_loss: 0.7914 - val_accuracy: 0.8889\n",
            "Epoch 50/80\n",
            "40/40 [==============================] - 15s 363ms/step - loss: 0.1965 - accuracy: 0.9472 - val_loss: 0.9268 - val_accuracy: 0.8889\n",
            "Epoch 51/80\n",
            "40/40 [==============================] - 14s 360ms/step - loss: 0.2334 - accuracy: 0.9072 - val_loss: 0.9822 - val_accuracy: 0.8765\n",
            "Epoch 52/80\n",
            "40/40 [==============================] - 14s 359ms/step - loss: 0.3239 - accuracy: 0.9200 - val_loss: 0.9934 - val_accuracy: 0.8519\n",
            "Epoch 53/80\n",
            "40/40 [==============================] - 14s 358ms/step - loss: 0.1772 - accuracy: 0.9456 - val_loss: 0.8781 - val_accuracy: 0.8765\n",
            "Epoch 54/80\n",
            "40/40 [==============================] - 14s 363ms/step - loss: 0.1957 - accuracy: 0.9360 - val_loss: 0.9369 - val_accuracy: 0.8519\n",
            "Epoch 55/80\n",
            "40/40 [==============================] - 14s 362ms/step - loss: 0.2007 - accuracy: 0.9152 - val_loss: 0.9002 - val_accuracy: 0.9012\n",
            "Epoch 56/80\n",
            "40/40 [==============================] - 14s 349ms/step - loss: 0.1608 - accuracy: 0.9392 - val_loss: 1.0507 - val_accuracy: 0.8642\n",
            "Epoch 57/80\n",
            "40/40 [==============================] - 14s 362ms/step - loss: 0.1609 - accuracy: 0.9392 - val_loss: 1.2410 - val_accuracy: 0.8272\n",
            "Epoch 58/80\n",
            "40/40 [==============================] - 15s 373ms/step - loss: 0.1748 - accuracy: 0.9344 - val_loss: 0.9007 - val_accuracy: 0.8765\n",
            "Epoch 59/80\n",
            "40/40 [==============================] - 16s 406ms/step - loss: 0.1967 - accuracy: 0.9248 - val_loss: 0.6717 - val_accuracy: 0.8889\n",
            "Epoch 60/80\n",
            "40/40 [==============================] - 14s 361ms/step - loss: 0.1430 - accuracy: 0.9520 - val_loss: 0.6213 - val_accuracy: 0.8889\n",
            "Epoch 61/80\n",
            "40/40 [==============================] - 15s 369ms/step - loss: 0.2023 - accuracy: 0.9376 - val_loss: 0.7369 - val_accuracy: 0.8642\n",
            "Epoch 62/80\n",
            "40/40 [==============================] - 14s 352ms/step - loss: 0.1661 - accuracy: 0.9456 - val_loss: 0.7800 - val_accuracy: 0.8889\n",
            "Epoch 63/80\n",
            "40/40 [==============================] - 14s 352ms/step - loss: 0.1667 - accuracy: 0.9440 - val_loss: 0.9657 - val_accuracy: 0.8765\n",
            "Epoch 64/80\n",
            "40/40 [==============================] - 14s 361ms/step - loss: 0.1262 - accuracy: 0.9552 - val_loss: 0.9043 - val_accuracy: 0.8765\n",
            "Epoch 65/80\n",
            "40/40 [==============================] - 14s 360ms/step - loss: 0.1587 - accuracy: 0.9488 - val_loss: 1.0202 - val_accuracy: 0.8765\n",
            "Epoch 66/80\n",
            "40/40 [==============================] - 14s 355ms/step - loss: 0.2486 - accuracy: 0.9056 - val_loss: 0.7168 - val_accuracy: 0.8765\n",
            "Epoch 67/80\n",
            "40/40 [==============================] - 15s 366ms/step - loss: 0.1649 - accuracy: 0.9456 - val_loss: 0.9614 - val_accuracy: 0.8642\n",
            "Epoch 68/80\n",
            "40/40 [==============================] - 15s 363ms/step - loss: 0.1706 - accuracy: 0.9424 - val_loss: 0.7236 - val_accuracy: 0.8889\n",
            "Epoch 69/80\n",
            "40/40 [==============================] - 15s 370ms/step - loss: 0.1935 - accuracy: 0.9344 - val_loss: 0.7836 - val_accuracy: 0.8765\n",
            "Epoch 70/80\n",
            "40/40 [==============================] - 14s 360ms/step - loss: 0.1604 - accuracy: 0.9360 - val_loss: 0.7661 - val_accuracy: 0.8889\n",
            "Epoch 71/80\n",
            "40/40 [==============================] - 14s 357ms/step - loss: 0.1915 - accuracy: 0.9392 - val_loss: 0.7656 - val_accuracy: 0.8889\n",
            "Epoch 72/80\n",
            "40/40 [==============================] - 14s 358ms/step - loss: 0.1650 - accuracy: 0.9376 - val_loss: 0.6880 - val_accuracy: 0.8889\n",
            "Epoch 73/80\n",
            "40/40 [==============================] - 15s 366ms/step - loss: 0.2215 - accuracy: 0.9200 - val_loss: 0.8138 - val_accuracy: 0.8765\n",
            "Epoch 74/80\n",
            "40/40 [==============================] - 17s 421ms/step - loss: 0.2368 - accuracy: 0.9312 - val_loss: 0.8842 - val_accuracy: 0.8765\n",
            "Epoch 75/80\n",
            "40/40 [==============================] - 14s 354ms/step - loss: 0.2650 - accuracy: 0.9232 - val_loss: 0.6772 - val_accuracy: 0.8519\n",
            "Epoch 76/80\n",
            "40/40 [==============================] - 15s 366ms/step - loss: 0.1410 - accuracy: 0.9504 - val_loss: 0.9430 - val_accuracy: 0.9136\n",
            "Epoch 77/80\n",
            "40/40 [==============================] - 14s 350ms/step - loss: 0.2112 - accuracy: 0.9504 - val_loss: 0.7969 - val_accuracy: 0.8765\n",
            "Epoch 78/80\n",
            "40/40 [==============================] - 14s 357ms/step - loss: 0.1820 - accuracy: 0.9248 - val_loss: 0.8315 - val_accuracy: 0.8395\n",
            "Epoch 79/80\n",
            "40/40 [==============================] - 14s 355ms/step - loss: 0.1729 - accuracy: 0.9392 - val_loss: 0.8984 - val_accuracy: 0.8642\n",
            "Epoch 80/80\n",
            "40/40 [==============================] - 14s 362ms/step - loss: 0.1601 - accuracy: 0.9504 - val_loss: 0.9541 - val_accuracy: 0.8765\n",
            "21/21 [==============================] - 4s 194ms/step - loss: 0.4072 - accuracy: 0.8816\n"
          ]
        }
      ]
    },
    {
      "cell_type": "code",
      "source": [
        "import seaborn as sns\n",
        "predictions_prob = model.predict(test_data)\n",
        "predictions = np.argmax(predictions_prob , axis = 1)\n",
        "true_label = test_data.classes\n",
        "report = classification_report(true_label,predictions)\n",
        "print(report)"
      ],
      "metadata": {
        "colab": {
          "base_uri": "https://localhost:8080/"
        },
        "id": "qxT6XPHMMOnO",
        "outputId": "b6b2583c-8067-4a66-dc3a-582271c827a5"
      },
      "execution_count": null,
      "outputs": [
        {
          "output_type": "stream",
          "name": "stdout",
          "text": [
            "21/21 [==============================] - 4s 190ms/step\n",
            "              precision    recall  f1-score   support\n",
            "\n",
            "           0       0.36      0.40      0.38       120\n",
            "           1       0.22      0.25      0.24        51\n",
            "           2       0.15      0.15      0.15        60\n",
            "           3       0.39      0.31      0.35        90\n",
            "\n",
            "    accuracy                           0.31       321\n",
            "   macro avg       0.28      0.28      0.28       321\n",
            "weighted avg       0.31      0.31      0.31       321\n",
            "\n"
          ]
        }
      ]
    }
  ]
}